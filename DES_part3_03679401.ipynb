{
 "cells": [
  {
   "cell_type": "markdown",
   "metadata": {},
   "source": [
    "* 3 - Generating Random Numbers:"
   ]
  },
  {
   "cell_type": "markdown",
   "metadata": {},
   "source": [
    "* 3.1 Implementation:"
   ]
  },
  {
   "cell_type": "code",
   "execution_count": 3,
   "metadata": {
    "collapsed": true
   },
   "outputs": [],
   "source": [
    "%matplotlib inline\n",
    "import matplotlib\n",
    "import numpy as np\n",
    "import matplotlib.pyplot as plt\n",
    "import pylab"
   ]
  },
  {
   "cell_type": "markdown",
   "metadata": {},
   "source": [
    "* Task 3.2.1: Verification of distributions:"
   ]
  },
  {
   "cell_type": "markdown",
   "metadata": {},
   "source": [
    "If ρ = 0.01, We plot the PDF of an exponential distribution (mean = 1s = 1000ms) for the inter arrival time distribution and the PDF of an exponential distribution (mean = λ/ρ = 10ms) for the serving time distribution). So, we obtained these two PDFs."
   ]
  },
  {
   "cell_type": "code",
   "execution_count": 2,
   "metadata": {
    "collapsed": false
   },
   "outputs": [
    {
     "data": {
      "image/png": "[encoded data removed]",
      "text/plain": [
       "<matplotlib.figure.Figure at 0xb3ec570c>"
      ]
     },
     "metadata": {},
     "output_type": "display_data"
    },
    {
     "data": {
      "image/png": "[encoded data removed]",
      "text/plain": [
       "<matplotlib.figure.Figure at 0xabc158cc>"
      ]
     },
     "metadata": {},
     "output_type": "display_data"
    }
   ],
   "source": [
    "import part3_simstudy\n",
    "%matplotlib inline\n",
    "part3_simstudy.task_3_2_1()"
   ]
  },
  {
   "cell_type": "markdown",
   "metadata": {},
   "source": [
    "* Task 3.2.2: Verification of system utilization:"
   ]
  },
  {
   "cell_type": "markdown",
   "metadata": {},
   "source": [
    "We run the tests of this third part."
   ]
  },
  {
   "cell_type": "code",
   "execution_count": 5,
   "metadata": {
    "collapsed": false
   },
   "outputs": [
    {
     "name": "stderr",
     "output_type": "stream",
     "text": [
      ".\n",
      "----------------------------------------------------------------------\n",
      "Ran 1 test in 2.291s\n",
      "\n",
      "OK\n"
     ]
    }
   ],
   "source": [
    "import part3_tests\n",
    "%run part3_tests"
   ]
  },
  {
   "cell_type": "markdown",
   "metadata": {},
   "source": [
    "we verify the implementation of the system utilization by simulating an M/M/1/S system with a limited queue capacity (S = 5) and ρ = λ/μ = 0.01, 0.5, 0.8, 0.9. We simulate the system for 100s and 1000s. So, we obtained:"
   ]
  },
  {
   "cell_type": "code",
   "execution_count": 4,
   "metadata": {
    "collapsed": false
   },
   "outputs": [
    {
     "name": "stdout",
     "output_type": "stream",
     "text": [
      "The system utilization results for a simulation time of 100s :\n",
      "[0.012082482767241845, 0.597395559857782, 0.8377834646904163, 0.8777644954422696]\n",
      "The system utilization results for a simulation time of 1000s :\n",
      "[0.009844090114910428, 0.49085651231446564, 0.7345679741191304, 0.8032662811920217]\n"
     ]
    }
   ],
   "source": [
    "part3_simstudy.task_3_2_2()"
   ]
  },
  {
   "cell_type": "markdown",
   "metadata": {
    "collapsed": true
   },
   "source": [
    "* 3.3 Analysis and General Questions:"
   ]
  },
  {
   "cell_type": "markdown",
   "metadata": {},
   "source": [
    "* Task 3.3.1: Seed for Random Number Generation:"
   ]
  },
  {
   "cell_type": "markdown",
   "metadata": {},
   "source": [
    "In non-deterministic simulation using sampling like what we are doing many time in this project, a random number seed is required so that we can reproduce precisely the same sequence of random  numbers for tha same distribution in order to make a verification and a validation for our system. What was used in the tests of the first and the second part to verify the number of dropped packets is an accurate example for the use of the seed in non-deterministic systems."
   ]
  },
  {
   "cell_type": "markdown",
   "metadata": {},
   "source": [
    "* Task 3.3.2: Bins for Histograms:"
   ]
  },
  {
   "cell_type": "markdown",
   "metadata": {},
   "source": [
    "As it was explained in the previous part, we can use the method of \"Thumbs\" in order to choose the number of bins. In fact, if we choose a very high number of bins, we will see many peaks but we can't notice the correct distribution, however When choosing a very little number of bins, our distribution will tend to be uniform, such that we can't notice the differences between the curves either. So, it is important to choose the right number of bins in order to draw the right conclusions from the plots (here we used 40 bins to plot our distributions) and we notice that the number of bins should increase when the number of samples increases. "
   ]
  },
  {
   "cell_type": "markdown",
   "metadata": {},
   "source": [
    "* Task 3.3.3: System Utilization:"
   ]
  },
  {
   "cell_type": "markdown",
   "metadata": {},
   "source": [
    "From task 3.2.2, we notice that the system utilization is always roughly egal to \"rho\" ρ = λ/μ. From the lecture, the expected system utilization, either if we simulate for an infinite simulation time or S becomes unlimited, is also \"rho\" ρ = λ/μ. "
   ]
  }
 ],
 "metadata": {
  "kernelspec": {
   "display_name": "Python 2",
   "language": "python",
   "name": "python2"
  },
  "language_info": {
   "codemirror_mode": {
    "name": "ipython",
    "version": 2
   },
   "file_extension": ".py",
   "mimetype": "text/x-python",
   "name": "python",
   "nbconvert_exporter": "python",
   "pygments_lexer": "ipython2",
   "version": "2.7.11"
  }
 },
 "nbformat": 4,
 "nbformat_minor": 0
}
