{
 "cells": [
  {
   "cell_type": "markdown",
   "metadata": {},
   "source": [
    "* 4 Correlation :Task 4.2.1: Auto Correlation"
   ]
  },
  {
   "cell_type": "markdown",
   "metadata": {},
   "source": [
    "* 4.1 Implementation : "
   ]
  },
  {
   "cell_type": "code",
   "execution_count": 6,
   "metadata": {
    "collapsed": false
   },
   "outputs": [],
   "source": [
    "%matplotlib inline\n",
    "import matplotlib\n",
    "import numpy as np\n",
    "import matplotlib.pyplot as plt\n",
    "import pylab"
   ]
  },
  {
   "cell_type": "markdown",
   "metadata": {},
   "source": [
    "* 4.2 Verification :"
   ]
  },
  {
   "cell_type": "markdown",
   "metadata": {},
   "source": [
    "* Task 4.2.1: Auto Correlation :"
   ]
  },
  {
   "cell_type": "markdown",
   "metadata": {},
   "source": [
    "We take a large array for the two sequences because in the formula from the lecture notes we exclude from the calculation \"lag\" observations so in case the array is small then this might lead to incorrect estimations."
   ]
  },
  {
   "cell_type": "code",
   "execution_count": 2,
   "metadata": {
    "collapsed": false
   },
   "outputs": [
    {
     "name": "stdout",
     "output_type": "stream",
     "text": [
      "The Autocorrelation for the example 1 with  (lag%2 = 0) :  1.0\n",
      "The Autocorrelation for the example 1 with  (lag%2 = 1) :  -1.0\n",
      "The Autocorrelation for the example 2 with  (lag%3 = 0) :  0.888888888889\n",
      "The Autocorrelation for the example 2 with  (lag%3 = 1) :  -0.418803418803\n",
      "The Autocorrelation for the example 2 with  (lag%3 = 2) :  -0.471111111111\n"
     ]
    }
   ],
   "source": [
    "import part4_simstudy\n",
    "%matplotlib inline\n",
    "part4_simstudy.task_4_2_1()"
   ]
  },
  {
   "cell_type": "markdown",
   "metadata": {},
   "source": [
    "* 4.3 Simulation Study III :"
   ]
  },
  {
   "cell_type": "code",
   "execution_count": 2,
   "metadata": {
    "collapsed": false
   },
   "outputs": [
    {
     "name": "stderr",
     "output_type": "stream",
     "text": [
      "..\n",
      "----------------------------------------------------------------------\n",
      "Ran 2 tests in 0.003s\n",
      "\n",
      "OK\n"
     ]
    }
   ],
   "source": [
    "import part4_tests\n",
    "%run part4_tests"
   ]
  },
  {
   "cell_type": "markdown",
   "metadata": {},
   "source": [
    "* Task 4.3.1: Correlations in the DES :"
   ]
  },
  {
   "cell_type": "code",
   "execution_count": 3,
   "metadata": {
    "collapsed": false
   },
   "outputs": [
    {
     "name": "stdout",
     "output_type": "stream",
     "text": [
      "---------- rho = , 0.01  ---------\n",
      "Correlation    between    IAT    and    waiting     time   of  a packet           :  -0.0515396383101\n",
      "Correlation    between    IAT    and    serving     time   of  a packet           :  -0.0123397374962\n",
      "Correlation between IAT and system time (waiting time + serving time) of a packet :  -0.0198021271727\n",
      "Correlation    between    service time and system   time   of a packet            :  0.987940447514\n",
      "Auto-correlation  of  waiting  time  with  lags  ranging  from  1  to  20         :  -0.00291019099657\n",
      "---------- rho = , 0.5  ---------\n",
      "Correlation    between    IAT    and    waiting     time   of  a packet           :  -0.281164704399\n",
      "Correlation    between    IAT    and    serving     time   of  a packet           :  -0.0123397374962\n",
      "Correlation between IAT and system time (waiting time + serving time) of a packet :  -0.250083214677\n",
      "Correlation    between    service time and system   time   of a packet            :  0.495458139101\n",
      "Auto-correlation  of  waiting  time  with  lags  ranging  from  1  to  20         :  0.68284854744\n",
      "---------- rho = , 0.8  ---------\n",
      "Correlation    between    IAT    and    waiting     time   of  a packet           :  -0.214319151964\n",
      "Correlation    between    IAT    and    serving     time   of  a packet           :  -0.0123397374962\n",
      "Correlation between IAT and system time (waiting time + serving time) of a packet :  -0.211510232801\n",
      "Correlation    between    service time and system   time   of a packet            :  0.232676224429\n",
      "Auto-correlation  of  waiting  time  with  lags  ranging  from  1  to  20         :  0.892627937178\n",
      "---------- rho = , 0.95  ---------\n",
      "Correlation    between    IAT    and    waiting     time   of  a packet           :  -0.108006734352\n",
      "Correlation    between    IAT    and    serving     time   of  a packet           :  -0.0123397374962\n",
      "Correlation between IAT and system time (waiting time + serving time) of a packet :  -0.108493125231\n",
      "Correlation    between    service time and system   time   of a packet            :  0.145280356232\n",
      "Auto-correlation  of  waiting  time  with  lags  ranging  from  1  to  20         :  0.970056235611\n"
     ]
    }
   ],
   "source": [
    "part4_simstudy.task_4_3_1()"
   ]
  },
  {
   "cell_type": "markdown",
   "metadata": {},
   "source": [
    "* Task 4.3.2*: Auto Correlation of Waiting Times :"
   ]
  },
  {
   "cell_type": "code",
   "execution_count": 8,
   "metadata": {
    "collapsed": false
   },
   "outputs": [
    {
     "data": {
      "image/png": "[encoded data removed]",
      "text/plain": [
       "<matplotlib.figure.Figure at 0xadd52a8c>"
      ]
     },
     "metadata": {},
     "output_type": "display_data"
    },
    {
     "data": {
      "image/png": "[encoded data removed]",
      "text/plain": [
       "<matplotlib.figure.Figure at 0xac554dec>"
      ]
     },
     "metadata": {},
     "output_type": "display_data"
    }
   ],
   "source": [
    "part4_simstudy.task_4_3_2()"
   ]
  },
  {
   "cell_type": "markdown",
   "metadata": {},
   "source": [
    "* 4.4 Analysis and General Questions :"
   ]
  },
  {
   "cell_type": "markdown",
   "metadata": {},
   "source": [
    "* Task 4.4.1: Lag size : "
   ]
  },
  {
   "cell_type": "markdown",
   "metadata": {},
   "source": [
    "First of all, the correlation coefficient is a value used in statistics to describe the linear relationship between two variables (Cross Correlation) or a variable and a shifted version of itself (Auto Correlation). For instance, if our correlation coefficient is exactly 1, this means that your variables have perfect positive correlation. In other words, when one variable increases, the second increases, and when one decreases the other decreases. However, if our correlation coefficient is -1, this means that your variables are perfectly negatively correlated. In other words, an increase in one will cause a decrease in the other, and vice versa. \n",
    "So,\n",
    "\n",
    "-> in the first sequence if the (lag%2 = 0) then the variable will correlated will itself and the correlation coefficient is 1. On the other hand if the (lag%2 = 1) then the variable will correlated will its opposite and the correlation coefficient is -1.\n",
    "\n",
    "-> in the second sequence if the (lag%3 = 0) then the variable will correlated will itself and the correlation coefficient is ~1. On the other hand, if (lag%3 = 1) or (lag%3 = 2) then the variable will correlated will a shifted version of itself and the correlation coefficient is negative (~-0.4) because we have more an increase in one will cause a decrease in the other, and vice versa.\n"
   ]
  },
  {
   "cell_type": "markdown",
   "metadata": {},
   "source": [
    "* Task 4.4.2: Correlation Times in the DES:"
   ]
  },
  {
   "cell_type": "markdown",
   "metadata": {},
   "source": [
    "-> Correlation between IAT and waiting time of a packet:\n",
    "we have a negative a correlation between the IAT and the waiting time because the packets have to wait more if the IAT decreases.\n",
    "\n",
    "-> Correlation between IAT and serving time of a packet:\n",
    "we have, independently of rho, the are no correlation (~0) between the IAT and the serving time because the serving time is independant of the IAT.\n",
    "\n",
    "-> Correlation between IAT and system time (waiting time + serving time) of a packet:\n",
    "we have a negative a correlation between the IAT and the system time because we have a nagative correlation between the IAT and the waiting time and no correlation between the IAT and the serving time. In fact, the packets have to wait more if the IAT decreases.\n",
    "\n",
    "-> Correlation between service time and system time of a packet:\n",
    "we have a positive correlation between the service time and the system time bacause (system time = waiting time + service time).\n",
    "\n",
    "-> Auto-correlation of waiting time with lags ranging from 1 to 20:\n",
    "we have a positive Auto Correlation because if a packet has to wait more if the previous packets waits for a longer time."
   ]
  },
  {
   "cell_type": "markdown",
   "metadata": {},
   "source": [
    "* Task 4.4.3*: Auto Correlation :"
   ]
  },
  {
   "cell_type": "markdown",
   "metadata": {},
   "source": [
    "the problem of n=100 that the autocorrelation coefficient is negative if lag>17 which is not relevant and it's due to the short array of waiting times that we have. "
   ]
  }
 ],
 "metadata": {
  "kernelspec": {
   "display_name": "Python 2",
   "language": "python",
   "name": "python2"
  },
  "language_info": {
   "codemirror_mode": {
    "name": "ipython",
    "version": 2
   },
   "file_extension": ".py",
   "mimetype": "text/x-python",
   "name": "python",
   "nbconvert_exporter": "python",
   "pygments_lexer": "ipython2",
   "version": "2.7.11"
  }
 },
 "nbformat": 4,
 "nbformat_minor": 0
}
