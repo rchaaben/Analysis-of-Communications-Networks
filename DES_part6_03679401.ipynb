{
 "cells": [
  {
   "cell_type": "markdown",
   "metadata": {},
   "source": [
    "* 6 Statistic Tests :"
   ]
  },
  {
   "cell_type": "code",
   "execution_count": 2,
   "metadata": {
    "collapsed": false
   },
   "outputs": [],
   "source": [
    "%matplotlib inline"
   ]
  },
  {
   "cell_type": "markdown",
   "metadata": {},
   "source": [
    "* 6.2 Verification :"
   ]
  },
  {
   "cell_type": "markdown",
   "metadata": {},
   "source": [
    "* Task 6.2.1: Chi Square Test :"
   ]
  },
  {
   "cell_type": "code",
   "execution_count": 3,
   "metadata": {
    "collapsed": false
   },
   "outputs": [
    {
     "name": "stderr",
     "output_type": "stream",
     "text": [
      ".\n",
      "----------------------------------------------------------------------\n",
      "Ran 1 test in 0.005s\n",
      "\n",
      "OK\n"
     ]
    }
   ],
   "source": [
    "import part6_tests\n",
    "%run part6_tests"
   ]
  },
  {
   "cell_type": "markdown",
   "metadata": {},
   "source": [
    "we draw 100 random samples from a standard normal distribution. As we have 100 samples and as mentioned in the lecture notes,  we choose a number of bins between 10 and 20. So, we choose a number of bins equal to 20 because of the combination of neighboring intervals and we run the chi square test on our samples with comparing always them to the standard normal distribution. We obtain the results below :"
   ]
  },
  {
   "cell_type": "code",
   "execution_count": 11,
   "metadata": {
    "collapsed": false
   },
   "outputs": [
    {
     "name": "stdout",
     "output_type": "stream",
     "text": [
      "*** Comparaison to the standard normal distribution : \n",
      "\n",
      "* varying the significance level :\n",
      "The samples follow the standard normal distribution : alpha= 0.05 mu= 0.0 sigma= 1.0\n",
      "The samples follow the standard normal distribution : alpha= 0.1 mu= 0.0 sigma= 1.0\n",
      "The samples follow the standard normal distribution : alpha= 0.2 mu= 0.0 sigma= 1.0\n",
      "The samples follow the standard normal distribution : alpha= 0.3 mu= 0.0 sigma= 1.0\n",
      "The samples don't follow the standard normal distribution : alpha= 0.4 mu= 0.0 sigma= 1.0\n",
      "\n",
      "* varying the number of bins : \n",
      "#bins = 30\n",
      "The samples follow the standard normal distribution : alpha= 0.05 mu= 0.0 sigma= 1.0\n",
      "#bins = 18\n",
      "The samples follow the standard normal distribution : alpha= 0.05 mu= 0.0 sigma= 1.0\n",
      "#bins = 16\n",
      "The samples follow the standard normal distribution : alpha= 0.05 mu= 0.0 sigma= 1.0\n",
      "#bins = 14\n",
      "The samples follow the standard normal distribution : alpha= 0.05 mu= 0.0 sigma= 1.0\n",
      "#bins = 6\n",
      "The samples follow the standard normal distribution : alpha= 0.05 mu= 0.0 sigma= 1.0\n",
      "\n",
      "* varying the mu :\n",
      "The samples don't follow the standard normal distribution : alpha= 0.05 mu= 1.0 sigma= 1.0\n",
      "The samples don't follow the standard normal distribution : alpha= 0.05 mu= 2.0 sigma= 1.0\n",
      "\n",
      "* varying the variance :\n",
      "The samples don't follow the standard normal distribution : alpha= 0.05 mu= 0.0 sigma= 2.0\n",
      "The samples don't follow the standard normal distribution : alpha= 0.05 mu= 0.0 sigma= 3.0\n",
      "The samples don't follow the standard normal distribution : alpha= 0.05 mu= 0.0 sigma= 4.0\n"
     ]
    }
   ],
   "source": [
    "import part6_simstudy\n",
    "\n",
    "print \"*** Comparaison to the standard normal distribution : \"\n",
    "# varying the significance level\n",
    "print \"\"\n",
    "print \"* varying the significance level :\"\n",
    "part6_simstudy.task_6_2_1(0.05,0.0,1.0)\n",
    "part6_simstudy.task_6_2_1(0.1,0.0,1.0)\n",
    "part6_simstudy.task_6_2_1(0.2,0.0,1.0)\n",
    "part6_simstudy.task_6_2_1(0.3,0.0,1.0)\n",
    "part6_simstudy.task_6_2_1(0.4,0.0,1.0)\n",
    "\n",
    "# varying the number of bins\n",
    "print \"\"\n",
    "print \"* varying the number of bins : \"\n",
    "print \"#bins = 30\"\n",
    "part6_simstudy.task_6_2_1(0.05,0.0,1.0,True,30)\n",
    "print \"#bins = 18\"\n",
    "part6_simstudy.task_6_2_1(0.05,0.0,1.0,True,18)\n",
    "print \"#bins = 16\"\n",
    "part6_simstudy.task_6_2_1(0.05,0.0,1.0,True,16)\n",
    "print \"#bins = 14\"\n",
    "part6_simstudy.task_6_2_1(0.05,0.0,1.0,True,14)\n",
    "print \"#bins = 6\"\n",
    "part6_simstudy.task_6_2_1(0.05,0.0,1.0,True,6)\n",
    "\n",
    "# varying the mu\n",
    "print \"\"\n",
    "print \"* varying the mu :\"\n",
    "part6_simstudy.task_6_2_1(0.05,1.0,1.0)\n",
    "part6_simstudy.task_6_2_1(0.05,2.0,1.0)\n",
    "\n",
    "# varying the variance\n",
    "print \"\"\n",
    "print \"* varying the variance :\"\n",
    "part6_simstudy.task_6_2_1(0.05,0.0,2.0)\n",
    "part6_simstudy.task_6_2_1(0.05,0.0,3.0)\n",
    "part6_simstudy.task_6_2_1(0.05,0.0,4.0)"
   ]
  },
  {
   "cell_type": "markdown",
   "metadata": {},
   "source": [
    "Now, we run the chi square test on our samples with comparing always them to the given normal distribution as generating the samples. We obtain the results below :"
   ]
  },
  {
   "cell_type": "code",
   "execution_count": 2,
   "metadata": {
    "collapsed": false
   },
   "outputs": [
    {
     "name": "stdout",
     "output_type": "stream",
     "text": [
      "*** Comparaison to the given normal distribution as generating : \n",
      "\n",
      "* varying the mu :\n",
      "The samples follow the given normal distribution : alpha= 0.05 mu= 1.0 sigma= 1.0\n",
      "The samples follow the given normal distribution : alpha= 0.05 mu= 2.0 sigma= 1.0\n",
      "* varying the variance :\n",
      "The samples follow the given normal distribution : alpha= 0.05 mu= 0.0 sigma= 2.0\n",
      "The samples follow the given normal distribution : alpha= 0.05 mu= 0.0 sigma= 3.0\n",
      "The samples follow the given normal distribution : alpha= 0.05 mu= 0.0 sigma= 4.0\n"
     ]
    }
   ],
   "source": [
    "import part6_simstudy\n",
    "print \"*** Comparaison to the given normal distribution as generating : \"\n",
    "print \"\"\n",
    "print \"* varying the mu :\"\n",
    "part6_simstudy.task_6_2_1(0.05,1.0,1.0,False)\n",
    "part6_simstudy.task_6_2_1(0.05,2.0,1.0,False)\n",
    "\n",
    "print \"* varying the variance :\"\n",
    "part6_simstudy.task_6_2_1(0.05,0.0,2.0,False)\n",
    "part6_simstudy.task_6_2_1(0.05,0.0,3.0,False)\n",
    "part6_simstudy.task_6_2_1(0.05,0.0,4.0,False)\n"
   ]
  },
  {
   "cell_type": "markdown",
   "metadata": {},
   "source": [
    "* Task 6.3.1: Chi Square Test : "
   ]
  },
  {
   "cell_type": "markdown",
   "metadata": {},
   "source": [
    "In task 6.2.1, if we vary the significance level we note that for a significance level of 0.4 the samples don't follow the standard normal distribution.\n",
    "If we change the number of bins, the samples always follow the standard normal distribution because the combination of neighboring intervals always make a correction to number of bins."
   ]
  },
  {
   "cell_type": "markdown",
   "metadata": {},
   "source": [
    "In task 6.2.1, if we change the mean or the variance of the samples and we are still comparing them to the standard normal distribution then the samples don't follow the standard normal distribution as shown in the results of the task 6.2.1. However, if change the mean and the variance of the samples but we don't still compare them to the standard  normal distribution then the samples follow the given normal distribution. "
   ]
  }
 ],
 "metadata": {
  "kernelspec": {
   "display_name": "Python 2",
   "language": "python",
   "name": "python2"
  },
  "language_info": {
   "codemirror_mode": {
    "name": "ipython",
    "version": 2
   },
   "file_extension": ".py",
   "mimetype": "text/x-python",
   "name": "python",
   "nbconvert_exporter": "python",
   "pygments_lexer": "ipython2",
   "version": "2.7.11"
  }
 },
 "nbformat": 4,
 "nbformat_minor": 0
}
